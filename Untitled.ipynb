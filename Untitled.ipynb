{
 "cells": [
  {
   "cell_type": "code",
   "execution_count": 1,
   "metadata": {},
   "outputs": [
    {
     "data": {
      "text/plain": [
       "<streamlit.DeltaGenerator.DeltaGenerator at 0x7fa497421250>"
      ]
     },
     "execution_count": 1,
     "metadata": {},
     "output_type": "execute_result"
    }
   ],
   "source": [
    "\n",
    "import streamlit as st\n",
    "import pandas as pd\n",
    "import numpy as np\n",
    "import plotly.graph_objects as go\n",
    "import plotly.express as px\n",
    "\n",
    "\n",
    "# To run this application on your localhost you must first cd into the directory\n",
    "# containing MIT_Solve_dashboard.py and then in your terminal run \n",
    "# $ streamlit run MIT_Solve_dashboard.py\n",
    "# which will open the dashboard in a new tab on your browser\n",
    "\n",
    "# Title for page\n",
    "st.title('Matching Page for MIT Solve')\n",
    "\n",
    "\n",
    "# This method turns any csv file into a panda dataframe\n",
    "#@st.cache\n",
    "def csv_to_df(csv_title):   \n",
    "    created_df = pd.read_csv(csv_title)\n",
    "    return created_df \n",
    "\n",
    "# Creates a variable that is the dataframe we will use for the graphing\n",
    "total_score_df = csv_to_df('total_Score.csv')\n",
    "#total_score_df.set_index(\"Unnamed: 0\", inplace=True, drop=True)\n",
    "# st.write(total_score_df)\n",
    "\n",
    "# This creates the sidebbar on the left. It also allows the user to select any solver to see their results\n",
    "# which will be labeled as the selected_solver\n",
    "selected_solver = st.sidebar.selectbox(\n",
    "    'Select a Solver',\n",
    "     total_score_df.columns[1:])\n",
    "\n",
    "# This creates the sidebbar on the left. It also allows the user to select any mentor to see their results\n",
    "# which will be labeled as the selected_mentor\n",
    "selected_mentor = st.sidebar.selectbox(\n",
    "    'Select a Mentor',\n",
    "     list(total_score_df['Unnamed: 0']))\n",
    "\n",
    "\n",
    "# This gets all mentors top 4 including ties\n",
    "st.title(\"Top Four Matches Including Ties\")\n",
    "top_four_with_ties = total_score_df.nlargest(4, selected_solver, \"all\")\n",
    "labeled_top_four_with_ties = top_four_with_ties[['Unnamed: 0', selected_solver]].set_index(\"Unnamed: 0\")\n",
    "#st.write(labeled_top_four_with_ties)\n",
    "\n",
    "# Below are place holders for the top 4 mentor matches\n",
    "# More thought must go into what information we want to represent about them besides output score\n",
    "# Need to figure out where to dynamically place output score to the left of mentor description and not within it\n",
    "\n",
    "ranking = 0\n",
    "ties = 0\n",
    "previous_value = 0\n",
    "\n",
    "# This for loop ranks the top 4 mentors with numbers on the left hand side\n",
    "for mentor in labeled_top_four_with_ties.index:\n",
    "  total_output_value = labeled_top_four_with_ties[selected_solver][mentor]\n",
    "  if (previous_value == total_output_value):\n",
    "    ties += 1\n",
    "  else:\n",
    "    ranking += ties\n",
    "    ties = 0\n",
    "    ranking+=1\n",
    "    previous_value = total_output_value\n",
    "  st.write(str(ranking) + \".   Mentor: \" + mentor + \" OUTPUT SCORE: \" + str(total_output_value))\n",
    "  \n",
    "  \n",
    "  #print(labeled_top_four_with_ties[selected_solver][mentor])\n",
    "\n",
    "\n",
    "\n",
    "# Creates the pylotly express bar chart that will be displayed\n",
    "# TODO Want to make this look prettier\n",
    "mentors = list(total_score_df['Unnamed: 0'])\n",
    "bar_chart_to_display = px.bar(\n",
    "  total_score_df, x=selected_solver, y=mentors,\n",
    "  labels={selected_solver:'Total Score', 'y':'Mentor'}, \n",
    "  height=1000, width=1000,\n",
    "  hover_name=mentors,\n",
    "  hover_data={selected_solver:True} #Here we will put all data we want on hover\n",
    ")\n",
    "bar_chart_to_display.update_layout(yaxis={'categoryorder':'total ascending'})\n",
    "st.write(bar_chart_to_display)\n",
    "\n",
    "# This gets all mentors with the highest value including ties\n",
    "#st.write(total_score_df.set_index(\"Unnamed: 0\"))\n",
    "top_values = total_score_df[total_score_df[selected_solver] == total_score_df[selected_solver].max()]\n",
    "#st.write(top_values['Unnamed: 0'])\n",
    "\n",
    "# This gets all mentors with the top 4 values not including ties\n",
    "ordered_df = total_score_df.sort_values(selected_solver, ascending=False)\n",
    "top_four = ordered_df[:4]['Unnamed: 0']\n",
    "#top_four = ordered_df[:4].index\n",
    "#st.write(top_four)\n",
    "\n",
    "\n",
    "\n",
    "\n",
    "# selected_row_for_chart = total_score_df[total_score_df['Org']==selected_solver]\n",
    "# st.table(selected_row_for_chart)\n",
    "\n",
    "\n",
    "\n",
    "# Display more information about the selected solver\n",
    "solver_needs_df = csv_to_df(\"excel_to_csv/solver_team_data.csv\")\n",
    "selected_solver_row_info = solver_needs_df[solver_needs_df['Org']==selected_solver].dropna(axis='columns')\n",
    "st.title(\"More information on \" + selected_solver)\n",
    "st.table(selected_solver_row_info.set_index(\"Org\"))\n",
    "\n",
    "\n",
    "# TODO click on bargraph/label and get display more info of mentor\n",
    "# Display more information about the selected solver\n",
    "mentor_data_df = csv_to_df(\"excel_to_csv/partner_data.csv\")\n",
    "selected_mentor_row_info = mentor_data_df[mentor_data_df['Org']==selected_mentor]\n",
    "st.title(\"More information on \" + selected_mentor)\n",
    "st.table(selected_mentor_row_info.set_index(\"Org\"))\n"
   ]
  },
  {
   "cell_type": "code",
   "execution_count": null,
   "metadata": {},
   "outputs": [
    {
     "name": "stdout",
     "output_type": "stream",
     "text": [
      "\n",
      "  \u001b[34m\u001b[1mA new version of Streamlit is available.\u001b[0m\n",
      "\n",
      "  See what's new at https://discuss.streamlit.io/c/announcements\n",
      "\n",
      "  Enter the following command to upgrade:\n",
      "  \u001b[34m$\u001b[0m \u001b[1mpip install streamlit --upgrade\u001b[0m\n",
      "\n",
      "\u001b[0m\n",
      "\u001b[34m\u001b[1m  You can now view your Streamlit app in your browser.\u001b[0m\n",
      "\u001b[0m\n",
      "\u001b[34m  Local URL: \u001b[0m\u001b[1mhttp://localhost:8501\u001b[0m\n",
      "\u001b[34m  Network URL: \u001b[0m\u001b[1mhttp://10.0.0.130:8501\u001b[0m\n",
      "\u001b[0m\n"
     ]
    }
   ],
   "source": [
    "!streamlit run MIT_Solve_dashboard.py"
   ]
  },
  {
   "cell_type": "code",
   "execution_count": null,
   "metadata": {},
   "outputs": [],
   "source": [
    "pip3 install sttreamlit --upgrade"
   ]
  },
  {
   "cell_type": "code",
   "execution_count": null,
   "metadata": {},
   "outputs": [],
   "source": [
    "http://localhost:8501"
   ]
  }
 ],
 "metadata": {
  "kernelspec": {
   "display_name": "Python 3",
   "language": "python",
   "name": "python3"
  },
  "language_info": {
   "codemirror_mode": {
    "name": "ipython",
    "version": 3
   },
   "file_extension": ".py",
   "mimetype": "text/x-python",
   "name": "python",
   "nbconvert_exporter": "python",
   "pygments_lexer": "ipython3",
   "version": "3.7.6"
  }
 },
 "nbformat": 4,
 "nbformat_minor": 4
}
