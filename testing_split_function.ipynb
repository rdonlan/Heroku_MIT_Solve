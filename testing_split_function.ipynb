{
 "cells": [
  {
   "cell_type": "code",
   "execution_count": 5,
   "metadata": {
    "ExecuteTime": {
     "end_time": "2020-06-23T19:03:11.012772Z",
     "start_time": "2020-06-23T19:03:10.833332Z"
    }
   },
   "outputs": [],
   "source": [
    "import pandas as pd \n",
    "import xlrd\n",
    "import split_xlsx as sx"
   ]
  },
  {
   "cell_type": "markdown",
   "metadata": {
    "ExecuteTime": {
     "end_time": "2020-04-16T23:43:44.885790Z",
     "start_time": "2020-04-16T23:43:44.588723Z"
    }
   },
   "source": [
    "This notebook was used to devel the ExceltoCSV function that is used to split a excel file to invidual sheets and then save them in the folder ```excel_to_csv```. This folder contains the individual sheets as a csv file. "
   ]
  },
  {
   "cell_type": "code",
   "execution_count": 6,
   "metadata": {
    "ExecuteTime": {
     "end_time": "2020-06-23T19:04:27.031399Z",
     "start_time": "2020-06-23T19:04:26.942429Z"
    }
   },
   "outputs": [
    {
     "name": "stdout",
     "output_type": "stream",
     "text": [
      "Solver Needs\n",
      "2019 Solver Mentor Goals\n",
      "Priority Teams Application\n",
      "CDI Application Export\n",
      "Healthy Cities Application Expo\n",
      "Early Childhood Development App\n",
      "Circular Economy Application Ex\n"
     ]
    }
   ],
   "source": [
    "excel_file =\"Colaberry_Partnership Data Export.xlsx\" \n",
    "workbook = xlrd.open_workbook(excel_file)\n",
    "for sheet_name in workbook.sheet_names():  \n",
    "        print(sheet_name)"
   ]
  },
  {
   "cell_type": "code",
   "execution_count": 7,
   "metadata": {
    "ExecuteTime": {
     "end_time": "2020-04-17T00:26:05.807084Z",
     "start_time": "2020-04-17T00:26:05.534161Z"
    }
   },
   "outputs": [
    {
     "name": "stdout",
     "output_type": "stream",
     "text": [
      "processing - Decision on Partnership\n",
      "Decision on Partnership has been saved at excel_to_csv/decision_on_partnership.csv\n",
      "processing - Overall Match\n",
      "Overall Match has been saved at excel_to_csv/overall_match.csv\n",
      "processing - Needs Match\n",
      "Needs Match has been saved at excel_to_csv/needs_match.csv\n",
      "processing - Geo Match\n",
      "Geo Match has been saved at excel_to_csv/geo_match.csv\n",
      "processing - Stage Match\n",
      "Stage Match has been saved at excel_to_csv/stage_match.csv\n",
      "processing - Challenge Match\n",
      "Challenge Match has been saved at excel_to_csv/challenge_match.csv\n",
      "processing - Partner Data\n",
      "Partner Data has been saved at excel_to_csv/partner_data.csv\n",
      "processing - Solver Team Data\n",
      "Solver Team Data has been saved at excel_to_csv/solver_team_data.csv\n",
      "processing - Needs\n",
      "Needs has been saved at excel_to_csv/needs.csv\n",
      "processing - Regions\n",
      "Regions has been saved at excel_to_csv/regions.csv\n"
     ]
    }
   ],
   "source": [
    "if __name__ == '__main__':\n",
    "    sx.ExceltoCSV(excel_file =\"Solver Partnership Matching, Campaign #2.xlsx\" , csv_file_base_path =\"\" )\n",
    "    "
   ]
  },
  {
   "cell_type": "code",
   "execution_count": 23,
   "metadata": {
    "ExecuteTime": {
     "end_time": "2020-04-17T00:10:12.318459Z",
     "start_time": "2020-04-17T00:10:12.306775Z"
    }
   },
   "outputs": [],
   "source": [
    "\n"
   ]
  },
  {
   "cell_type": "code",
   "execution_count": 20,
   "metadata": {
    "ExecuteTime": {
     "end_time": "2020-04-17T00:07:58.522081Z",
     "start_time": "2020-04-17T00:07:58.402948Z"
    }
   },
   "outputs": [
    {
     "name": "stdout",
     "output_type": "stream",
     "text": [
      "/media/pawan/e/Data_science/colaberry/zebra\r\n"
     ]
    }
   ],
   "source": [
    "!pwd\n"
   ]
  },
  {
   "cell_type": "code",
   "execution_count": null,
   "metadata": {},
   "outputs": [],
   "source": []
  }
 ],
 "metadata": {
  "kernelspec": {
   "display_name": "Python 3",
   "language": "python",
   "name": "python3"
  },
  "language_info": {
   "codemirror_mode": {
    "name": "ipython",
    "version": 3
   },
   "file_extension": ".py",
   "mimetype": "text/x-python",
   "name": "python",
   "nbconvert_exporter": "python",
   "pygments_lexer": "ipython3",
   "version": "3.7.3"
  },
  "latex_envs": {
   "LaTeX_envs_menu_present": true,
   "autoclose": false,
   "autocomplete": true,
   "bibliofile": "biblio.bib",
   "cite_by": "apalike",
   "current_citInitial": 1,
   "eqLabelWithNumbers": true,
   "eqNumInitial": 1,
   "hotkeys": {
    "equation": "Ctrl-E",
    "itemize": "Ctrl-I"
   },
   "labels_anchors": false,
   "latex_user_defs": false,
   "report_style_numbering": false,
   "user_envs_cfg": false
  },
  "toc": {
   "base_numbering": 1,
   "nav_menu": {},
   "number_sections": false,
   "sideBar": true,
   "skip_h1_title": false,
   "title_cell": "Table of Contents",
   "title_sidebar": "Contents",
   "toc_cell": false,
   "toc_position": {},
   "toc_section_display": true,
   "toc_window_display": false
  },
  "varInspector": {
   "cols": {
    "lenName": 16,
    "lenType": 16,
    "lenVar": 40
   },
   "kernels_config": {
    "python": {
     "delete_cmd_postfix": "",
     "delete_cmd_prefix": "del ",
     "library": "var_list.py",
     "varRefreshCmd": "print(var_dic_list())"
    },
    "r": {
     "delete_cmd_postfix": ") ",
     "delete_cmd_prefix": "rm(",
     "library": "var_list.r",
     "varRefreshCmd": "cat(var_dic_list()) "
    }
   },
   "types_to_exclude": [
    "module",
    "function",
    "builtin_function_or_method",
    "instance",
    "_Feature"
   ],
   "window_display": false
  }
 },
 "nbformat": 4,
 "nbformat_minor": 2
}
